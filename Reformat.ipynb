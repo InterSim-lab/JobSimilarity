{
 "cells": [
  {
   "cell_type": "code",
   "execution_count": 1,
   "metadata": {},
   "outputs": [
    {
     "name": "stderr",
     "output_type": "stream",
     "text": [
      "/tmp/ipykernel_16535/1177998677.py:1: DeprecationWarning: \n",
      "Pyarrow will become a required dependency of pandas in the next major release of pandas (pandas 3.0),\n",
      "(to allow more performant data types, such as the Arrow string type, and better interoperability with other libraries)\n",
      "but was not found to be installed on your system.\n",
      "If this would cause problems for you,\n",
      "please provide us feedback at https://github.com/pandas-dev/pandas/issues/54466\n",
      "        \n",
      "  import pandas as pd\n"
     ]
    }
   ],
   "source": [
    "import pandas as pd\n",
    "import json"
   ]
  },
  {
   "cell_type": "code",
   "execution_count": 2,
   "metadata": {},
   "outputs": [
    {
     "data": {
      "text/html": [
       "<div>\n",
       "<style scoped>\n",
       "    .dataframe tbody tr th:only-of-type {\n",
       "        vertical-align: middle;\n",
       "    }\n",
       "\n",
       "    .dataframe tbody tr th {\n",
       "        vertical-align: top;\n",
       "    }\n",
       "\n",
       "    .dataframe thead th {\n",
       "        text-align: right;\n",
       "    }\n",
       "</style>\n",
       "<table border=\"1\" class=\"dataframe\">\n",
       "  <thead>\n",
       "    <tr style=\"text-align: right;\">\n",
       "      <th></th>\n",
       "      <th>prompt</th>\n",
       "      <th>input</th>\n",
       "      <th>output</th>\n",
       "    </tr>\n",
       "  </thead>\n",
       "  <tbody>\n",
       "    <tr>\n",
       "      <th>0</th>\n",
       "      <td>Generate a set of interview questions for a Sa...</td>\n",
       "      <td>Nama: Emily Tan\\nAsal Institusi: SMA Negeri 1 ...</td>\n",
       "      <td>[\\n    {\"id\": \"q1\", \"question\": \"Bagaimana per...</td>\n",
       "    </tr>\n",
       "    <tr>\n",
       "      <th>1</th>\n",
       "      <td>Generate a set of interview questions for a Ho...</td>\n",
       "      <td>Nama: Emily Wijaya\\nAsal Institusi: SMA Negeri...</td>\n",
       "      <td>[\\n{\"id\": \"q1\", \"question\": \"Bagaimana perjala...</td>\n",
       "    </tr>\n",
       "    <tr>\n",
       "      <th>2</th>\n",
       "      <td>Generate a set of interview questions for a Bu...</td>\n",
       "      <td>Nama: Emily Chen\\nAsal Institusi: SMA Negeri 1...</td>\n",
       "      <td>[\\n    {\"id\": \"q1\", \"question\": \"Bagaimana per...</td>\n",
       "    </tr>\n",
       "    <tr>\n",
       "      <th>3</th>\n",
       "      <td>Generate a set of interview questions for a CR...</td>\n",
       "      <td>Nama: Alexandre Marc\\nAsal Institusi: SMA Nege...</td>\n",
       "      <td>[\\n    {\"id\": \"q1\", \"question\": \"Selamat pagi,...</td>\n",
       "    </tr>\n",
       "    <tr>\n",
       "      <th>4</th>\n",
       "      <td>Generate a set of interview questions for a IT...</td>\n",
       "      <td>Nama: Emily Tan\\nAsal Institusi: SMA Negeri 3 ...</td>\n",
       "      <td>[\\n{\"id\": \"q1\", \"question\": \"Bagaimana perjala...</td>\n",
       "    </tr>\n",
       "  </tbody>\n",
       "</table>\n",
       "</div>"
      ],
      "text/plain": [
       "                                              prompt  \\\n",
       "0  Generate a set of interview questions for a Sa...   \n",
       "1  Generate a set of interview questions for a Ho...   \n",
       "2  Generate a set of interview questions for a Bu...   \n",
       "3  Generate a set of interview questions for a CR...   \n",
       "4  Generate a set of interview questions for a IT...   \n",
       "\n",
       "                                               input  \\\n",
       "0  Nama: Emily Tan\\nAsal Institusi: SMA Negeri 1 ...   \n",
       "1  Nama: Emily Wijaya\\nAsal Institusi: SMA Negeri...   \n",
       "2  Nama: Emily Chen\\nAsal Institusi: SMA Negeri 1...   \n",
       "3  Nama: Alexandre Marc\\nAsal Institusi: SMA Nege...   \n",
       "4  Nama: Emily Tan\\nAsal Institusi: SMA Negeri 3 ...   \n",
       "\n",
       "                                              output  \n",
       "0  [\\n    {\"id\": \"q1\", \"question\": \"Bagaimana per...  \n",
       "1  [\\n{\"id\": \"q1\", \"question\": \"Bagaimana perjala...  \n",
       "2  [\\n    {\"id\": \"q1\", \"question\": \"Bagaimana per...  \n",
       "3  [\\n    {\"id\": \"q1\", \"question\": \"Selamat pagi,...  \n",
       "4  [\\n{\"id\": \"q1\", \"question\": \"Bagaimana perjala...  "
      ]
     },
     "execution_count": 2,
     "metadata": {},
     "output_type": "execute_result"
    }
   ],
   "source": [
    "df = pd.read_csv(\"data/AlpacaCodeFormat-v2.csv\")\n",
    "df.head()"
   ]
  },
  {
   "cell_type": "code",
   "execution_count": 24,
   "metadata": {},
   "outputs": [],
   "source": [
    "data = []\n",
    "for i, row in df.iterrows():\n",
    "    input = row[\"prompt\"] + str(row[\"input\"])\n",
    "    output = row[\"output\"]\n",
    "    data.append({\n",
    "        \"contents\": [\n",
    "            {\"role\": \"user\", \"parts\": [{\"text\": input}]},\n",
    "            {\"role\": \"model\", \"parts\": [{\"text\": output}]}\n",
    "        ]\n",
    "    })"
   ]
  },
  {
   "cell_type": "code",
   "execution_count": 20,
   "metadata": {},
   "outputs": [],
   "source": [
    "from sklearn.model_selection import train_test_split\n",
    "\n",
    "train, test = train_test_split(data, test_size=0.2, shuffle=True, random_state=42)\n",
    "with open(\"data/train.jsonl\", \"w\") as f:\n",
    "    for d in train:\n",
    "        f.write(json.dumps(d) + \"\\n\")\n",
    "with open(\"data/test.jsonl\", \"w\") as f:\n",
    "    for d in test:\n",
    "        f.write(json.dumps(d) + \"\\n\")"
   ]
  },
  {
   "cell_type": "code",
   "execution_count": 25,
   "metadata": {},
   "outputs": [],
   "source": [
    "with open(\"data/full-gemini.jsonl\", \"w\") as f:\n",
    "    for d in data:\n",
    "        f.write(json.dumps(d) + \"\\n\")"
   ]
  },
  {
   "cell_type": "code",
   "execution_count": null,
   "metadata": {},
   "outputs": [],
   "source": []
  }
 ],
 "metadata": {
  "kernelspec": {
   "display_name": ".venv",
   "language": "python",
   "name": "python3"
  },
  "language_info": {
   "codemirror_mode": {
    "name": "ipython",
    "version": 3
   },
   "file_extension": ".py",
   "mimetype": "text/x-python",
   "name": "python",
   "nbconvert_exporter": "python",
   "pygments_lexer": "ipython3",
   "version": "3.12.3"
  }
 },
 "nbformat": 4,
 "nbformat_minor": 2
}
